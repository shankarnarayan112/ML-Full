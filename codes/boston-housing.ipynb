{
 "cells": [
  {
   "cell_type": "markdown",
   "metadata": {},
   "source": [
    "<h1 align=\"center\">Assignment</h1>\n",
    "<h3 align=\"center\">Faisal Akhtar</h3>\n",
    "<h3 align=\"center\">Roll No.: 17/1409</h3>\n",
    "<h3 align=\"center\">Machine Learning - B.Sc. Hons Computer Science - Vth Semester</h4>"
   ]
  },
  {
   "cell_type": "code",
   "execution_count": 1,
   "metadata": {
    "_cell_guid": "b1076dfc-b9ad-4769-8c92-a6c4dae69d19",
    "_uuid": "8f2839f25d086af736a60e9eeb907d3b93b6e0e5"
   },
   "outputs": [],
   "source": [
    "import numpy as np\n",
    "import matplotlib.pyplot as plt\n",
    "\n",
    "import pandas as pd\n",
    "from sklearn.model_selection import train_test_split\n",
    "from sklearn.linear_model import LinearRegression\n",
    "\n",
    "from scipy import stats"
   ]
  },
  {
   "cell_type": "code",
   "execution_count": 2,
   "metadata": {
    "_cell_guid": "79c7e3d0-c299-4dcb-8224-4455121ee9b0",
    "_uuid": "d629ff2d2480ee46fbb7e2d37f6b5fab8052498a"
   },
   "outputs": [
    {
     "name": "stdout",
     "output_type": "stream",
     "text": [
      "\n",
      "\n",
      "Data loaded\n",
      "\n",
      "\n"
     ]
    }
   ],
   "source": [
    "column_names = [\"CRIM\", \"ZN\", \"INDUS\", \"CHAS\", \"NOX\", \"RM\", \"AGE\", \"DIS\", \"RAD\", \"TAX\", \"PTRATIO\", \"B\", \"LSTAT\", \"MEDV\"]\n",
    "data = pd.read_csv(\"../input/boston-housing.csv\", header=None, delimiter=r\"\\s+\", names=column_names)\n",
    "print(\"\\n\\nData loaded\\n\\n\")"
   ]
  },
  {
   "cell_type": "code",
   "execution_count": 3,
   "metadata": {},
   "outputs": [
    {
     "data": {
      "text/html": [
       "<div>\n",
       "<style scoped>\n",
       "    .dataframe tbody tr th:only-of-type {\n",
       "        vertical-align: middle;\n",
       "    }\n",
       "\n",
       "    .dataframe tbody tr th {\n",
       "        vertical-align: top;\n",
       "    }\n",
       "\n",
       "    .dataframe thead th {\n",
       "        text-align: right;\n",
       "    }\n",
       "</style>\n",
       "<table border=\"1\" class=\"dataframe\">\n",
       "  <thead>\n",
       "    <tr style=\"text-align: right;\">\n",
       "      <th></th>\n",
       "      <th>CRIM</th>\n",
       "      <th>ZN</th>\n",
       "      <th>INDUS</th>\n",
       "      <th>CHAS</th>\n",
       "      <th>NOX</th>\n",
       "      <th>RM</th>\n",
       "      <th>AGE</th>\n",
       "      <th>DIS</th>\n",
       "      <th>RAD</th>\n",
       "      <th>TAX</th>\n",
       "      <th>PTRATIO</th>\n",
       "      <th>B</th>\n",
       "      <th>LSTAT</th>\n",
       "      <th>MEDV</th>\n",
       "    </tr>\n",
       "  </thead>\n",
       "  <tbody>\n",
       "    <tr>\n",
       "      <th>0</th>\n",
       "      <td>0.00632</td>\n",
       "      <td>18.0</td>\n",
       "      <td>2.31</td>\n",
       "      <td>0</td>\n",
       "      <td>0.538</td>\n",
       "      <td>6.575</td>\n",
       "      <td>65.2</td>\n",
       "      <td>4.0900</td>\n",
       "      <td>1</td>\n",
       "      <td>296.0</td>\n",
       "      <td>15.3</td>\n",
       "      <td>396.90</td>\n",
       "      <td>4.98</td>\n",
       "      <td>24.0</td>\n",
       "    </tr>\n",
       "    <tr>\n",
       "      <th>1</th>\n",
       "      <td>0.02731</td>\n",
       "      <td>0.0</td>\n",
       "      <td>7.07</td>\n",
       "      <td>0</td>\n",
       "      <td>0.469</td>\n",
       "      <td>6.421</td>\n",
       "      <td>78.9</td>\n",
       "      <td>4.9671</td>\n",
       "      <td>2</td>\n",
       "      <td>242.0</td>\n",
       "      <td>17.8</td>\n",
       "      <td>396.90</td>\n",
       "      <td>9.14</td>\n",
       "      <td>21.6</td>\n",
       "    </tr>\n",
       "    <tr>\n",
       "      <th>2</th>\n",
       "      <td>0.02729</td>\n",
       "      <td>0.0</td>\n",
       "      <td>7.07</td>\n",
       "      <td>0</td>\n",
       "      <td>0.469</td>\n",
       "      <td>7.185</td>\n",
       "      <td>61.1</td>\n",
       "      <td>4.9671</td>\n",
       "      <td>2</td>\n",
       "      <td>242.0</td>\n",
       "      <td>17.8</td>\n",
       "      <td>392.83</td>\n",
       "      <td>4.03</td>\n",
       "      <td>34.7</td>\n",
       "    </tr>\n",
       "    <tr>\n",
       "      <th>3</th>\n",
       "      <td>0.03237</td>\n",
       "      <td>0.0</td>\n",
       "      <td>2.18</td>\n",
       "      <td>0</td>\n",
       "      <td>0.458</td>\n",
       "      <td>6.998</td>\n",
       "      <td>45.8</td>\n",
       "      <td>6.0622</td>\n",
       "      <td>3</td>\n",
       "      <td>222.0</td>\n",
       "      <td>18.7</td>\n",
       "      <td>394.63</td>\n",
       "      <td>2.94</td>\n",
       "      <td>33.4</td>\n",
       "    </tr>\n",
       "    <tr>\n",
       "      <th>4</th>\n",
       "      <td>0.06905</td>\n",
       "      <td>0.0</td>\n",
       "      <td>2.18</td>\n",
       "      <td>0</td>\n",
       "      <td>0.458</td>\n",
       "      <td>7.147</td>\n",
       "      <td>54.2</td>\n",
       "      <td>6.0622</td>\n",
       "      <td>3</td>\n",
       "      <td>222.0</td>\n",
       "      <td>18.7</td>\n",
       "      <td>396.90</td>\n",
       "      <td>5.33</td>\n",
       "      <td>36.2</td>\n",
       "    </tr>\n",
       "  </tbody>\n",
       "</table>\n",
       "</div>"
      ],
      "text/plain": [
       "      CRIM    ZN  INDUS  CHAS    NOX     RM   AGE     DIS  RAD    TAX  \\\n",
       "0  0.00632  18.0   2.31     0  0.538  6.575  65.2  4.0900    1  296.0   \n",
       "1  0.02731   0.0   7.07     0  0.469  6.421  78.9  4.9671    2  242.0   \n",
       "2  0.02729   0.0   7.07     0  0.469  7.185  61.1  4.9671    2  242.0   \n",
       "3  0.03237   0.0   2.18     0  0.458  6.998  45.8  6.0622    3  222.0   \n",
       "4  0.06905   0.0   2.18     0  0.458  7.147  54.2  6.0622    3  222.0   \n",
       "\n",
       "   PTRATIO       B  LSTAT  MEDV  \n",
       "0     15.3  396.90   4.98  24.0  \n",
       "1     17.8  396.90   9.14  21.6  \n",
       "2     17.8  392.83   4.03  34.7  \n",
       "3     18.7  394.63   2.94  33.4  \n",
       "4     18.7  396.90   5.33  36.2  "
      ]
     },
     "execution_count": 3,
     "metadata": {},
     "output_type": "execute_result"
    }
   ],
   "source": [
    "data.head()"
   ]
  },
  {
   "cell_type": "code",
   "execution_count": 4,
   "metadata": {},
   "outputs": [
    {
     "data": {
      "text/html": [
       "<div>\n",
       "<style scoped>\n",
       "    .dataframe tbody tr th:only-of-type {\n",
       "        vertical-align: middle;\n",
       "    }\n",
       "\n",
       "    .dataframe tbody tr th {\n",
       "        vertical-align: top;\n",
       "    }\n",
       "\n",
       "    .dataframe thead th {\n",
       "        text-align: right;\n",
       "    }\n",
       "</style>\n",
       "<table border=\"1\" class=\"dataframe\">\n",
       "  <thead>\n",
       "    <tr style=\"text-align: right;\">\n",
       "      <th></th>\n",
       "      <th>CRIM</th>\n",
       "      <th>ZN</th>\n",
       "      <th>INDUS</th>\n",
       "      <th>CHAS</th>\n",
       "      <th>NOX</th>\n",
       "      <th>RM</th>\n",
       "      <th>AGE</th>\n",
       "      <th>DIS</th>\n",
       "      <th>RAD</th>\n",
       "      <th>TAX</th>\n",
       "      <th>PTRATIO</th>\n",
       "      <th>B</th>\n",
       "      <th>LSTAT</th>\n",
       "      <th>MEDV</th>\n",
       "    </tr>\n",
       "  </thead>\n",
       "  <tbody>\n",
       "    <tr>\n",
       "      <th>count</th>\n",
       "      <td>506.000000</td>\n",
       "      <td>506.000000</td>\n",
       "      <td>506.000000</td>\n",
       "      <td>506.000000</td>\n",
       "      <td>506.000000</td>\n",
       "      <td>506.000000</td>\n",
       "      <td>506.000000</td>\n",
       "      <td>506.000000</td>\n",
       "      <td>506.000000</td>\n",
       "      <td>506.000000</td>\n",
       "      <td>506.000000</td>\n",
       "      <td>506.000000</td>\n",
       "      <td>506.000000</td>\n",
       "      <td>506.000000</td>\n",
       "    </tr>\n",
       "    <tr>\n",
       "      <th>mean</th>\n",
       "      <td>3.613524</td>\n",
       "      <td>11.363636</td>\n",
       "      <td>11.136779</td>\n",
       "      <td>0.069170</td>\n",
       "      <td>0.554695</td>\n",
       "      <td>6.284634</td>\n",
       "      <td>68.574901</td>\n",
       "      <td>3.795043</td>\n",
       "      <td>9.549407</td>\n",
       "      <td>408.237154</td>\n",
       "      <td>18.455534</td>\n",
       "      <td>356.674032</td>\n",
       "      <td>12.653063</td>\n",
       "      <td>22.532806</td>\n",
       "    </tr>\n",
       "    <tr>\n",
       "      <th>std</th>\n",
       "      <td>8.601545</td>\n",
       "      <td>23.322453</td>\n",
       "      <td>6.860353</td>\n",
       "      <td>0.253994</td>\n",
       "      <td>0.115878</td>\n",
       "      <td>0.702617</td>\n",
       "      <td>28.148861</td>\n",
       "      <td>2.105710</td>\n",
       "      <td>8.707259</td>\n",
       "      <td>168.537116</td>\n",
       "      <td>2.164946</td>\n",
       "      <td>91.294864</td>\n",
       "      <td>7.141062</td>\n",
       "      <td>9.197104</td>\n",
       "    </tr>\n",
       "    <tr>\n",
       "      <th>min</th>\n",
       "      <td>0.006320</td>\n",
       "      <td>0.000000</td>\n",
       "      <td>0.460000</td>\n",
       "      <td>0.000000</td>\n",
       "      <td>0.385000</td>\n",
       "      <td>3.561000</td>\n",
       "      <td>2.900000</td>\n",
       "      <td>1.129600</td>\n",
       "      <td>1.000000</td>\n",
       "      <td>187.000000</td>\n",
       "      <td>12.600000</td>\n",
       "      <td>0.320000</td>\n",
       "      <td>1.730000</td>\n",
       "      <td>5.000000</td>\n",
       "    </tr>\n",
       "    <tr>\n",
       "      <th>25%</th>\n",
       "      <td>0.082045</td>\n",
       "      <td>0.000000</td>\n",
       "      <td>5.190000</td>\n",
       "      <td>0.000000</td>\n",
       "      <td>0.449000</td>\n",
       "      <td>5.885500</td>\n",
       "      <td>45.025000</td>\n",
       "      <td>2.100175</td>\n",
       "      <td>4.000000</td>\n",
       "      <td>279.000000</td>\n",
       "      <td>17.400000</td>\n",
       "      <td>375.377500</td>\n",
       "      <td>6.950000</td>\n",
       "      <td>17.025000</td>\n",
       "    </tr>\n",
       "    <tr>\n",
       "      <th>50%</th>\n",
       "      <td>0.256510</td>\n",
       "      <td>0.000000</td>\n",
       "      <td>9.690000</td>\n",
       "      <td>0.000000</td>\n",
       "      <td>0.538000</td>\n",
       "      <td>6.208500</td>\n",
       "      <td>77.500000</td>\n",
       "      <td>3.207450</td>\n",
       "      <td>5.000000</td>\n",
       "      <td>330.000000</td>\n",
       "      <td>19.050000</td>\n",
       "      <td>391.440000</td>\n",
       "      <td>11.360000</td>\n",
       "      <td>21.200000</td>\n",
       "    </tr>\n",
       "    <tr>\n",
       "      <th>75%</th>\n",
       "      <td>3.677082</td>\n",
       "      <td>12.500000</td>\n",
       "      <td>18.100000</td>\n",
       "      <td>0.000000</td>\n",
       "      <td>0.624000</td>\n",
       "      <td>6.623500</td>\n",
       "      <td>94.075000</td>\n",
       "      <td>5.188425</td>\n",
       "      <td>24.000000</td>\n",
       "      <td>666.000000</td>\n",
       "      <td>20.200000</td>\n",
       "      <td>396.225000</td>\n",
       "      <td>16.955000</td>\n",
       "      <td>25.000000</td>\n",
       "    </tr>\n",
       "    <tr>\n",
       "      <th>max</th>\n",
       "      <td>88.976200</td>\n",
       "      <td>100.000000</td>\n",
       "      <td>27.740000</td>\n",
       "      <td>1.000000</td>\n",
       "      <td>0.871000</td>\n",
       "      <td>8.780000</td>\n",
       "      <td>100.000000</td>\n",
       "      <td>12.126500</td>\n",
       "      <td>24.000000</td>\n",
       "      <td>711.000000</td>\n",
       "      <td>22.000000</td>\n",
       "      <td>396.900000</td>\n",
       "      <td>37.970000</td>\n",
       "      <td>50.000000</td>\n",
       "    </tr>\n",
       "  </tbody>\n",
       "</table>\n",
       "</div>"
      ],
      "text/plain": [
       "             CRIM          ZN       INDUS        CHAS         NOX          RM  \\\n",
       "count  506.000000  506.000000  506.000000  506.000000  506.000000  506.000000   \n",
       "mean     3.613524   11.363636   11.136779    0.069170    0.554695    6.284634   \n",
       "std      8.601545   23.322453    6.860353    0.253994    0.115878    0.702617   \n",
       "min      0.006320    0.000000    0.460000    0.000000    0.385000    3.561000   \n",
       "25%      0.082045    0.000000    5.190000    0.000000    0.449000    5.885500   \n",
       "50%      0.256510    0.000000    9.690000    0.000000    0.538000    6.208500   \n",
       "75%      3.677082   12.500000   18.100000    0.000000    0.624000    6.623500   \n",
       "max     88.976200  100.000000   27.740000    1.000000    0.871000    8.780000   \n",
       "\n",
       "              AGE         DIS         RAD         TAX     PTRATIO           B  \\\n",
       "count  506.000000  506.000000  506.000000  506.000000  506.000000  506.000000   \n",
       "mean    68.574901    3.795043    9.549407  408.237154   18.455534  356.674032   \n",
       "std     28.148861    2.105710    8.707259  168.537116    2.164946   91.294864   \n",
       "min      2.900000    1.129600    1.000000  187.000000   12.600000    0.320000   \n",
       "25%     45.025000    2.100175    4.000000  279.000000   17.400000  375.377500   \n",
       "50%     77.500000    3.207450    5.000000  330.000000   19.050000  391.440000   \n",
       "75%     94.075000    5.188425   24.000000  666.000000   20.200000  396.225000   \n",
       "max    100.000000   12.126500   24.000000  711.000000   22.000000  396.900000   \n",
       "\n",
       "            LSTAT        MEDV  \n",
       "count  506.000000  506.000000  \n",
       "mean    12.653063   22.532806  \n",
       "std      7.141062    9.197104  \n",
       "min      1.730000    5.000000  \n",
       "25%      6.950000   17.025000  \n",
       "50%     11.360000   21.200000  \n",
       "75%     16.955000   25.000000  \n",
       "max     37.970000   50.000000  "
      ]
     },
     "execution_count": 4,
     "metadata": {},
     "output_type": "execute_result"
    }
   ],
   "source": [
    "data.describe()"
   ]
  },
  {
   "cell_type": "markdown",
   "metadata": {},
   "source": [
    "<h4>Preprocessing</h4>"
   ]
  },
  {
   "cell_type": "code",
   "execution_count": 5,
   "metadata": {},
   "outputs": [
    {
     "name": "stdout",
     "output_type": "stream",
     "text": [
      "\n",
      "\n",
      "Check null values\n",
      " RM      0\n",
      "AGE     0\n",
      "MEDV    0\n",
      "dtype: int64\n"
     ]
    }
   ],
   "source": [
    "data = pd.DataFrame(np.c_[data['RM'],data['AGE'],data['MEDV']], columns = ['RM', 'AGE', 'MEDV'])\n",
    "\n",
    "# Check null values\n",
    "print(\"\\n\\nCheck null values\\n\",data.isnull().sum())"
   ]
  },
  {
   "cell_type": "markdown",
   "metadata": {},
   "source": [
    "No null values found...Moving on"
   ]
  },
  {
   "cell_type": "code",
   "execution_count": 6,
   "metadata": {},
   "outputs": [
    {
     "name": "stdout",
     "output_type": "stream",
     "text": [
      "\n",
      "\n",
      "Checking where outliers are less than the ZScore\n",
      "ZScore > 1\n",
      " [  2   2   3   3   4   4   8  12  16  18  18  20  20  23  30  31  32  33\n",
      "  34  38  39  40  40  40  41  42  43  44  45  46  48  52  53  55  55  55\n",
      "  56  58  64  64  65  66  67  68  69  70  71  72  73  74  79  80  82  88\n",
      "  89  93  97  97  98  98  98  99  99 105 108 123 128 130 131 132 134 135\n",
      " 137 138 138 139 141 141 142 142 143 143 144 144 144 145 146 147 148 150\n",
      " 151 151 152 153 156 156 157 157 158 159 161 161 162 162 162 163 163 166\n",
      " 166 171 172 175 179 180 180 181 182 182 183 186 186 187 188 189 189 189\n",
      " 190 190 191 192 192 192 193 194 195 195 195 196 196 196 197 197 198 198\n",
      " 198 199 199 200 200 200 201 202 202 202 203 203 203 204 204 204 205 209\n",
      " 209 211 213 214 214 224 224 225 225 226 226 227 228 228 228 229 231 232\n",
      " 232 233 233 237 238 243 246 249 250 251 252 253 253 253 254 255 256 256\n",
      " 256 257 257 258 258 258 259 260 260 261 261 262 262 263 264 264 265 266\n",
      " 267 267 268 268 271 273 273 274 274 275 276 276 277 277 278 279 279 280\n",
      " 280 281 281 282 282 283 283 283 284 284 284 285 286 287 289 290 291 291\n",
      " 291 292 293 295 298 299 299 301 302 303 303 304 304 306 306 310 310 324\n",
      " 325 326 328 329 330 331 332 333 334 335 338 341 341 344 347 348 349 351\n",
      " 352 353 354 355 356 362 364 365 366 367 367 368 368 368 369 369 370 370\n",
      " 370 371 371 372 373 373 374 374 375 375 377 377 378 379 379 380 381 381\n",
      " 382 382 382 383 383 383 384 384 385 385 385 386 386 386 387 387 388 388\n",
      " 388 389 389 389 390 392 392 392 394 395 395 396 397 397 398 398 398 399\n",
      " 400 400 401 401 402 402 403 403 404 404 405 405 406 406 406 407 408 409\n",
      " 410 411 412 412 413 413 414 414 414 415 415 416 417 417 418 418 419 420\n",
      " 424 424 425 426 427 428 429 434 436 437 437 438 439 440 441 442 443 444\n",
      " 445 447 448 449 449 451 453 453 456 474 475 475 477 477 477 478 482 483\n",
      " 488 489 489 489 490 490 490 491 495 496 499 505] \n",
      " [0 2 0 2 0 2 1 1 1 0 1 0 1 1 2 1 2 2 1 1 1 0 1 2 1 1 1 1 1 1 0 1 1 0 1 2 1\n",
      " 1 0 2 1 1 1 1 1 1 1 1 1 1 1 1 1 0 0 1 0 2 0 1 2 0 2 1 1 1 1 1 1 1 1 1 1 1\n",
      " 2 1 0 1 0 1 0 1 0 1 2 1 1 0 0 1 0 1 0 1 0 2 1 2 1 1 0 2 0 1 2 0 2 0 2 1 0\n",
      " 1 2 0 2 2 0 2 2 0 2 2 1 0 1 2 1 2 1 0 1 2 1 1 0 1 2 0 1 2 0 1 0 1 2 1 2 0\n",
      " 1 2 1 0 1 2 0 1 2 0 1 2 1 0 1 0 1 0 1 0 2 0 2 0 2 0 0 1 2 1 0 0 2 0 2 0 1\n",
      " 1 1 1 1 1 1 0 1 2 1 1 0 1 2 0 2 0 1 2 1 0 2 0 2 0 2 0 0 2 0 0 0 2 0 2 1 0\n",
      " 2 1 2 2 0 2 1 2 1 1 2 0 2 1 2 0 2 0 1 2 0 1 2 1 1 1 1 1 0 1 2 1 1 1 1 0 1\n",
      " 1 1 1 2 0 2 0 2 0 1 1 1 1 1 1 1 1 1 1 1 1 1 0 2 1 1 1 1 1 1 1 1 1 1 0 0 0\n",
      " 0 0 1 0 1 2 1 2 0 1 2 1 2 2 0 1 0 1 0 1 1 2 2 1 2 2 1 2 0 1 2 0 1 2 0 2 0\n",
      " 1 2 0 1 2 0 2 0 1 2 0 1 2 1 0 1 2 2 1 2 2 1 2 0 1 2 2 1 2 1 2 1 2 0 2 0 2\n",
      " 1 2 0 1 2 1 1 1 1 1 0 1 0 1 0 1 2 1 2 2 0 2 1 2 2 1 0 2 2 2 2 2 2 2 2 1 2\n",
      " 2 2 2 1 1 1 2 2 2 1 1 2 1 0 1 2 0 1 2 0 1 2 1 0 1 0 0 1 2 0 1 2 1 1 0 0 2] \n",
      "\n",
      "ZScore > 2\n",
      " [ 41  42  43  70  72  73  74  97  98  98 157 161 162 162 163 163 166 166\n",
      " 180 186 186 193 195 195 202 203 203 204 204 214 224 224 225 225 226 228\n",
      " 232 232 233 233 243 251 252 253 253 253 256 257 257 261 262 262 267 267\n",
      " 268 273 280 280 282 283 283 299 364 365 367 368 369 370 371 372 374 384\n",
      " 386 388 406 412 414] \n",
      " [1 1 1 1 1 1 1 0 0 2 2 2 0 2 0 2 0 2 0 0 2 1 0 2 2 0 2 0 2 1 0 2 0 2 0 2 0\n",
      " 2 0 2 1 1 1 0 1 2 2 0 2 2 0 2 0 2 2 0 0 2 2 0 2 1 0 0 0 2 2 2 2 2 0 0 0 0\n",
      " 0 0 0] \n",
      "\n",
      "ZScore > 3\n",
      " [225 257 262 364 365 367 374 406] \n",
      " [0 0 0 0 0 0 0 0] \n",
      "\n"
     ]
    }
   ],
   "source": [
    "# Discovering outliers by Z-Score\n",
    "ZScore = np.abs(stats.zscore(data))\n",
    "print(\"\\n\\nChecking where outliers are less than the ZScore\")\n",
    "print(\"ZScore > 1\\n\",np.where(ZScore > 1)[0],\"\\n\",np.where(ZScore > 1)[1],\"\\n\")\n",
    "print(\"ZScore > 2\\n\",np.where(ZScore > 2)[0],\"\\n\",np.where(ZScore > 2)[1],\"\\n\")\n",
    "print(\"ZScore > 3\\n\",np.where(ZScore > 3)[0],\"\\n\",np.where(ZScore > 3)[1],\"\\n\")"
   ]
  },
  {
   "cell_type": "markdown",
   "metadata": {},
   "source": [
    "Selecting ZScore 3 to remove outliers"
   ]
  },
  {
   "cell_type": "code",
   "execution_count": 7,
   "metadata": {},
   "outputs": [
    {
     "name": "stdout",
     "output_type": "stream",
     "text": [
      "Shape before removing outliers :  (506, 3) \n",
      "Shape after removing outliers :  (498, 3)\n"
     ]
    }
   ],
   "source": [
    "data_o = data[(ZScore<3).all(axis=1)]\n",
    "print (\"Shape before removing outliers : \",np.shape(data),\"\\nShape after removing outliers : \",np.shape(data_o))"
   ]
  },
  {
   "cell_type": "markdown",
   "metadata": {},
   "source": [
    "<h4>Preparing the data for training</h4>\n",
    "whrere X is input data and Y is output data"
   ]
  },
  {
   "cell_type": "code",
   "execution_count": 8,
   "metadata": {},
   "outputs": [
    {
     "name": "stdout",
     "output_type": "stream",
     "text": [
      "\n",
      "\n",
      "X =\n",
      "       RM   AGE\n",
      "0  6.575  65.2\n",
      "1  6.421  78.9\n",
      "2  7.185  61.1\n",
      "3  6.998  45.8\n",
      "4  7.147  54.2\n",
      "\n",
      "\n",
      "Y =\n",
      "    MEDV\n",
      "0  24.0\n",
      "1  21.6\n",
      "2  34.7\n",
      "3  33.4\n",
      "4  36.2\n"
     ]
    }
   ],
   "source": [
    "X = pd.DataFrame(np.c_[data_o['RM'],data_o['AGE']], columns = ['RM', 'AGE'])\n",
    "Y = pd.DataFrame(np.c_[data_o['MEDV']], columns = ['MEDV'])\n",
    "print(\"\\n\\nX =\\n\",X.head(5))\n",
    "print(\"\\n\\nY =\\n\",Y.head(5))"
   ]
  },
  {
   "cell_type": "markdown",
   "metadata": {},
   "source": [
    "<h4>Splitting dataset in Training sets and Test sets</h4>\n",
    "Where 75% data is for training and 25% is for testing"
   ]
  },
  {
   "cell_type": "code",
   "execution_count": 9,
   "metadata": {},
   "outputs": [
    {
     "name": "stdout",
     "output_type": "stream",
     "text": [
      "X_train.shape :  (373, 2) \tX_test.shape (125, 2)\n",
      "Y_train.shape :  (373, 1) \tY_train.shape (373, 1)\n"
     ]
    }
   ],
   "source": [
    "X_train, X_test, Y_train, Y_test = train_test_split(X,Y,test_size=0.25)\n",
    "print(\"X_train.shape : \", X_train.shape, \"\\tX_test.shape\", X_test.shape)\n",
    "print(\"Y_train.shape : \", Y_train.shape, \"\\tY_train.shape\", Y_train.shape)"
   ]
  },
  {
   "cell_type": "markdown",
   "metadata": {},
   "source": [
    "<h4>Linear Regression</h4>\n",
    "Fitting Linear regression model to training model"
   ]
  },
  {
   "cell_type": "code",
   "execution_count": 10,
   "metadata": {},
   "outputs": [],
   "source": [
    "lin_model = LinearRegression()\n",
    "lin_model = lin_model.fit(X_train, Y_train)"
   ]
  },
  {
   "cell_type": "markdown",
   "metadata": {},
   "source": [
    "<h4>Model Analysis</h4>"
   ]
  },
  {
   "cell_type": "code",
   "execution_count": 11,
   "metadata": {},
   "outputs": [
    {
     "data": {
      "image/png": "[encoded data removed]",
      "text/plain": [
       "<Figure size 432x288 with 1 Axes>"
      ]
     },
     "metadata": {
      "needs_background": "light"
     },
     "output_type": "display_data"
    }
   ],
   "source": [
    "predictions = lin_model.predict(X_test)\n",
    "\n",
    "# Scatter Plot\n",
    "plt.scatter(Y_test, predictions)\n",
    "plt.xlabel(\"True Values\",color='red')\n",
    "plt.ylabel(\"Predictions\",color='blue')\n",
    "plt.title(\"Predicted vs Actual value\")\n",
    "plt.grid(True)\n",
    "plt.show()\n"
   ]
  },
  {
   "cell_type": "markdown",
   "metadata": {},
   "source": [
    "<h4>The coefficient of determination R^2 of the prediction</h4>"
   ]
  },
  {
   "cell_type": "code",
   "execution_count": 12,
   "metadata": {},
   "outputs": [
    {
     "name": "stdout",
     "output_type": "stream",
     "text": [
      "0.5925746602474407\n"
     ]
    }
   ],
   "source": [
    "print(lin_model.score(X_test,Y_test))"
   ]
  }
 ],
 "metadata": {
  "kernelspec": {
   "display_name": "Python 3",
   "language": "python",
   "name": "python3"
  },
  "language_info": {
   "codemirror_mode": {
    "name": "ipython",
    "version": 3
   },
   "file_extension": ".py",
   "mimetype": "text/x-python",
   "name": "python",
   "nbconvert_exporter": "python",
   "pygments_lexer": "ipython3",
   "version": "3.6.6"
  }
 },
 "nbformat": 4,
 "nbformat_minor": 4
}
