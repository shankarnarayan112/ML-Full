{
 "cells": [
  {
   "cell_type": "markdown",
   "metadata": {},
   "source": [
    "<h1 align=\"center\">Assignment</h1>\n",
    "<h3 align=\"center\">Faisal Akhtar</h3>\n",
    "<h3 align=\"center\">Roll No.: 17/1409</h3>\n",
    "<p>Machine Learning - B.Sc. Hons Computer Science - VIth Semester</p>\n",
    "<p>Using stochastic gradient descent in neural networks, predict the values of house prices using Boston dataset.</p>"
   ]
  },
  {
   "cell_type": "code",
   "execution_count": 1,
   "metadata": {
    "_cell_guid": "b1076dfc-b9ad-4769-8c92-a6c4dae69d19",
    "_uuid": "8f2839f25d086af736a60e9eeb907d3b93b6e0e5"
   },
   "outputs": [],
   "source": [
    "from sklearn.datasets import load_boston\n",
    "from sklearn import preprocessing\n",
    "import pandas as pd\n",
    "import numpy as np\n",
    "import matplotlib.pyplot as plt\n",
    "from prettytable import PrettyTable\n",
    "from sklearn.linear_model import SGDRegressor\n",
    "from sklearn import preprocessing\n",
    "from sklearn.metrics import mean_squared_error\n",
    "from numpy import random\n",
    "from sklearn.model_selection import train_test_split"
   ]
  },
  {
   "cell_type": "code",
   "execution_count": 2,
   "metadata": {
    "_cell_guid": "79c7e3d0-c299-4dcb-8224-4455121ee9b0",
    "_uuid": "d629ff2d2480ee46fbb7e2d37f6b5fab8052498a"
   },
   "outputs": [],
   "source": [
    "boston_data=pd.DataFrame(load_boston().data,columns=load_boston().feature_names)\n",
    "Y=load_boston().target\n",
    "X=load_boston().data\n",
    "x_train,x_test,y_train,y_test=train_test_split(X,Y,test_size=0.3)"
   ]
  },
  {
   "cell_type": "code",
   "execution_count": 3,
   "metadata": {},
   "outputs": [
    {
     "data": {
      "text/html": [
       "<div>\n",
       "<style scoped>\n",
       "    .dataframe tbody tr th:only-of-type {\n",
       "        vertical-align: middle;\n",
       "    }\n",
       "\n",
       "    .dataframe tbody tr th {\n",
       "        vertical-align: top;\n",
       "    }\n",
       "\n",
       "    .dataframe thead th {\n",
       "        text-align: right;\n",
       "    }\n",
       "</style>\n",
       "<table border=\"1\" class=\"dataframe\">\n",
       "  <thead>\n",
       "    <tr style=\"text-align: right;\">\n",
       "      <th></th>\n",
       "      <th>CRIM</th>\n",
       "      <th>ZN</th>\n",
       "      <th>INDUS</th>\n",
       "      <th>CHAS</th>\n",
       "      <th>NOX</th>\n",
       "      <th>RM</th>\n",
       "      <th>AGE</th>\n",
       "      <th>DIS</th>\n",
       "      <th>RAD</th>\n",
       "      <th>TAX</th>\n",
       "      <th>PTRATIO</th>\n",
       "      <th>B</th>\n",
       "      <th>LSTAT</th>\n",
       "    </tr>\n",
       "  </thead>\n",
       "  <tbody>\n",
       "    <tr>\n",
       "      <th>0</th>\n",
       "      <td>0.00632</td>\n",
       "      <td>18.0</td>\n",
       "      <td>2.31</td>\n",
       "      <td>0.0</td>\n",
       "      <td>0.538</td>\n",
       "      <td>6.575</td>\n",
       "      <td>65.2</td>\n",
       "      <td>4.0900</td>\n",
       "      <td>1.0</td>\n",
       "      <td>296.0</td>\n",
       "      <td>15.3</td>\n",
       "      <td>396.90</td>\n",
       "      <td>4.98</td>\n",
       "    </tr>\n",
       "    <tr>\n",
       "      <th>1</th>\n",
       "      <td>0.02731</td>\n",
       "      <td>0.0</td>\n",
       "      <td>7.07</td>\n",
       "      <td>0.0</td>\n",
       "      <td>0.469</td>\n",
       "      <td>6.421</td>\n",
       "      <td>78.9</td>\n",
       "      <td>4.9671</td>\n",
       "      <td>2.0</td>\n",
       "      <td>242.0</td>\n",
       "      <td>17.8</td>\n",
       "      <td>396.90</td>\n",
       "      <td>9.14</td>\n",
       "    </tr>\n",
       "    <tr>\n",
       "      <th>2</th>\n",
       "      <td>0.02729</td>\n",
       "      <td>0.0</td>\n",
       "      <td>7.07</td>\n",
       "      <td>0.0</td>\n",
       "      <td>0.469</td>\n",
       "      <td>7.185</td>\n",
       "      <td>61.1</td>\n",
       "      <td>4.9671</td>\n",
       "      <td>2.0</td>\n",
       "      <td>242.0</td>\n",
       "      <td>17.8</td>\n",
       "      <td>392.83</td>\n",
       "      <td>4.03</td>\n",
       "    </tr>\n",
       "  </tbody>\n",
       "</table>\n",
       "</div>"
      ],
      "text/plain": [
       "      CRIM    ZN  INDUS  CHAS    NOX     RM   AGE     DIS  RAD    TAX  \\\n",
       "0  0.00632  18.0   2.31   0.0  0.538  6.575  65.2  4.0900  1.0  296.0   \n",
       "1  0.02731   0.0   7.07   0.0  0.469  6.421  78.9  4.9671  2.0  242.0   \n",
       "2  0.02729   0.0   7.07   0.0  0.469  7.185  61.1  4.9671  2.0  242.0   \n",
       "\n",
       "   PTRATIO       B  LSTAT  \n",
       "0     15.3  396.90   4.98  \n",
       "1     17.8  396.90   9.14  \n",
       "2     17.8  392.83   4.03  "
      ]
     },
     "execution_count": 3,
     "metadata": {},
     "output_type": "execute_result"
    }
   ],
   "source": [
    "# data overview\n",
    "boston_data.head(3)"
   ]
  },
  {
   "cell_type": "code",
   "execution_count": 4,
   "metadata": {},
   "outputs": [
    {
     "name": "stdout",
     "output_type": "stream",
     "text": [
      "(506, 13)\n",
      "(506,)\n",
      "(354, 13)\n",
      "(152, 13)\n",
      "(354,)\n",
      "(152,)\n"
     ]
    }
   ],
   "source": [
    "print(X.shape)\n",
    "print(Y.shape)\n",
    "print(x_train.shape)\n",
    "print(x_test.shape)\n",
    "print(y_train.shape)\n",
    "print(y_test.shape)"
   ]
  },
  {
   "cell_type": "code",
   "execution_count": 5,
   "metadata": {},
   "outputs": [
    {
     "data": {
      "text/plain": [
       "array([[1.13290e-01, 3.00000e+01, 4.93000e+00, ..., 1.66000e+01,\n",
       "        3.91250e+02, 1.13800e+01],\n",
       "       [4.26131e+00, 0.00000e+00, 1.81000e+01, ..., 2.02000e+01,\n",
       "        3.90740e+02, 1.26700e+01],\n",
       "       [2.10380e-01, 2.00000e+01, 3.33000e+00, ..., 1.49000e+01,\n",
       "        3.96900e+02, 4.85000e+00],\n",
       "       ...,\n",
       "       [2.77974e+00, 0.00000e+00, 1.95800e+01, ..., 1.47000e+01,\n",
       "        3.96900e+02, 2.92900e+01],\n",
       "       [1.88360e-01, 0.00000e+00, 6.91000e+00, ..., 1.79000e+01,\n",
       "        3.96900e+02, 1.41500e+01],\n",
       "       [3.25430e-01, 0.00000e+00, 2.18900e+01, ..., 2.12000e+01,\n",
       "        3.96900e+02, 1.53900e+01]])"
      ]
     },
     "execution_count": 5,
     "metadata": {},
     "output_type": "execute_result"
    }
   ],
   "source": [
    "## Before standardizing data\n",
    "x_train"
   ]
  },
  {
   "cell_type": "code",
   "execution_count": 6,
   "metadata": {},
   "outputs": [],
   "source": [
    "# standardizing data\n",
    "scaler = preprocessing.StandardScaler().fit(x_train)\n",
    "x_train = scaler.transform(x_train)\n",
    "x_test=scaler.transform(x_test)"
   ]
  },
  {
   "cell_type": "code",
   "execution_count": 7,
   "metadata": {},
   "outputs": [
    {
     "data": {
      "text/plain": [
       "array([[-0.38013482,  0.45039666, -0.66272603, ...,  0.04913236,\n",
       "         0.36743689,  0.03930751],\n",
       "       [-0.32326475, -0.46553279, -0.49194526, ...,  1.15052691,\n",
       "        -0.5387094 ,  0.52943455],\n",
       "       [-0.34698845, -0.46553279, -0.77272042, ..., -0.50156491,\n",
       "         0.45514904, -0.71473408],\n",
       "       ...,\n",
       "       [ 1.09414446, -0.46553279,  0.9495602 , ...,  0.78339539,\n",
       "         0.20019905,  2.4997173 ],\n",
       "       [-0.40449721, -0.46553279, -1.20111964, ..., -0.73102211,\n",
       "         0.22454582, -0.75103978],\n",
       "       [ 0.07657899, -0.46553279,  0.9495602 , ...,  0.78339539,\n",
       "         0.21891097, -0.14780651]])"
      ]
     },
     "execution_count": 7,
     "metadata": {},
     "output_type": "execute_result"
    }
   ],
   "source": [
    "## After standardizing data\n",
    "x_train\n",
    "x_test"
   ]
  },
  {
   "cell_type": "code",
   "execution_count": 8,
   "metadata": {},
   "outputs": [
    {
     "data": {
      "text/html": [
       "<div>\n",
       "<style scoped>\n",
       "    .dataframe tbody tr th:only-of-type {\n",
       "        vertical-align: middle;\n",
       "    }\n",
       "\n",
       "    .dataframe tbody tr th {\n",
       "        vertical-align: top;\n",
       "    }\n",
       "\n",
       "    .dataframe thead th {\n",
       "        text-align: right;\n",
       "    }\n",
       "</style>\n",
       "<table border=\"1\" class=\"dataframe\">\n",
       "  <thead>\n",
       "    <tr style=\"text-align: right;\">\n",
       "      <th></th>\n",
       "      <th>0</th>\n",
       "      <th>1</th>\n",
       "      <th>2</th>\n",
       "      <th>3</th>\n",
       "      <th>4</th>\n",
       "      <th>5</th>\n",
       "      <th>6</th>\n",
       "      <th>7</th>\n",
       "      <th>8</th>\n",
       "      <th>9</th>\n",
       "      <th>10</th>\n",
       "      <th>11</th>\n",
       "      <th>12</th>\n",
       "      <th>price</th>\n",
       "    </tr>\n",
       "  </thead>\n",
       "  <tbody>\n",
       "    <tr>\n",
       "      <th>0</th>\n",
       "      <td>-0.399660</td>\n",
       "      <td>0.908361</td>\n",
       "      <td>-0.956527</td>\n",
       "      <td>-0.287348</td>\n",
       "      <td>-1.160352</td>\n",
       "      <td>0.875794</td>\n",
       "      <td>-0.569320</td>\n",
       "      <td>1.332664</td>\n",
       "      <td>-0.432881</td>\n",
       "      <td>-0.661504</td>\n",
       "      <td>-0.868696</td>\n",
       "      <td>0.395080</td>\n",
       "      <td>-0.186905</td>\n",
       "      <td>22.0</td>\n",
       "    </tr>\n",
       "    <tr>\n",
       "      <th>1</th>\n",
       "      <td>0.036075</td>\n",
       "      <td>-0.465533</td>\n",
       "      <td>0.949560</td>\n",
       "      <td>-0.287348</td>\n",
       "      <td>1.837136</td>\n",
       "      <td>-0.264096</td>\n",
       "      <td>0.413621</td>\n",
       "      <td>-0.582867</td>\n",
       "      <td>1.608805</td>\n",
       "      <td>1.488429</td>\n",
       "      <td>0.783395</td>\n",
       "      <td>0.389657</td>\n",
       "      <td>-0.006773</td>\n",
       "      <td>22.6</td>\n",
       "    </tr>\n",
       "    <tr>\n",
       "      <th>2</th>\n",
       "      <td>-0.389461</td>\n",
       "      <td>0.450397</td>\n",
       "      <td>-1.188094</td>\n",
       "      <td>-0.287348</td>\n",
       "      <td>-1.029760</td>\n",
       "      <td>0.752367</td>\n",
       "      <td>-1.373876</td>\n",
       "      <td>0.213777</td>\n",
       "      <td>-0.546308</td>\n",
       "      <td>-1.154931</td>\n",
       "      <td>-1.648851</td>\n",
       "      <td>0.455149</td>\n",
       "      <td>-1.098737</td>\n",
       "      <td>35.1</td>\n",
       "    </tr>\n",
       "  </tbody>\n",
       "</table>\n",
       "</div>"
      ],
      "text/plain": [
       "          0         1         2         3         4         5         6  \\\n",
       "0 -0.399660  0.908361 -0.956527 -0.287348 -1.160352  0.875794 -0.569320   \n",
       "1  0.036075 -0.465533  0.949560 -0.287348  1.837136 -0.264096  0.413621   \n",
       "2 -0.389461  0.450397 -1.188094 -0.287348 -1.029760  0.752367 -1.373876   \n",
       "\n",
       "          7         8         9        10        11        12  price  \n",
       "0  1.332664 -0.432881 -0.661504 -0.868696  0.395080 -0.186905   22.0  \n",
       "1 -0.582867  1.608805  1.488429  0.783395  0.389657 -0.006773   22.6  \n",
       "2  0.213777 -0.546308 -1.154931 -1.648851  0.455149 -1.098737   35.1  "
      ]
     },
     "execution_count": 8,
     "metadata": {},
     "output_type": "execute_result"
    }
   ],
   "source": [
    "## Adding the PRICE Column in the data\n",
    "train_data=pd.DataFrame(x_train)\n",
    "train_data['price']=y_train\n",
    "train_data.head(3)"
   ]
  },
  {
   "cell_type": "code",
   "execution_count": 9,
   "metadata": {},
   "outputs": [],
   "source": [
    "x_test=np.array(x_test)\n",
    "y_test=np.array(y_test)"
   ]
  },
  {
   "cell_type": "code",
   "execution_count": 10,
   "metadata": {},
   "outputs": [
    {
     "data": {
      "text/plain": [
       "numpy.ndarray"
      ]
     },
     "execution_count": 10,
     "metadata": {},
     "output_type": "execute_result"
    }
   ],
   "source": [
    "type(x_test)"
   ]
  },
  {
   "cell_type": "code",
   "execution_count": 11,
   "metadata": {},
   "outputs": [],
   "source": [
    "n_iter=100"
   ]
  },
  {
   "cell_type": "code",
   "execution_count": 12,
   "metadata": {},
   "outputs": [
    {
     "data": {
      "image/png": "[encoded data removed]",
      "text/plain": [
       "<Figure size 432x288 with 1 Axes>"
      ]
     },
     "metadata": {
      "needs_background": "light"
     },
     "output_type": "display_data"
    }
   ],
   "source": [
    "# SkLearn SGD classifier\n",
    "clf_ = SGDRegressor(max_iter=n_iter)\n",
    "clf_.fit(x_train, y_train)\n",
    "y_pred_sksgd=clf_.predict(x_test)\n",
    "plt.scatter(y_test,y_pred_sksgd)\n",
    "plt.grid()\n",
    "plt.xlabel('Actual y')\n",
    "plt.ylabel('Predicted y')\n",
    "plt.title('Scatter plot from actual y and predicted y')\n",
    "plt.show()"
   ]
  },
  {
   "cell_type": "code",
   "execution_count": 13,
   "metadata": {},
   "outputs": [
    {
     "name": "stdout",
     "output_type": "stream",
     "text": [
      "Mean Squared Error : 21.59467548160897\n"
     ]
    }
   ],
   "source": [
    "print('Mean Squared Error :',mean_squared_error(y_test, y_pred_sksgd))"
   ]
  },
  {
   "cell_type": "code",
   "execution_count": 14,
   "metadata": {},
   "outputs": [
    {
     "data": {
      "text/plain": [
       "array([-0.92589156,  0.43723733, -0.31598749,  1.09709883, -2.09688264,\n",
       "        2.68223287, -0.194221  , -2.90708156,  1.48276007, -0.64474994,\n",
       "       -1.83674577,  0.68499033, -3.8103472 ])"
      ]
     },
     "execution_count": 14,
     "metadata": {},
     "output_type": "execute_result"
    }
   ],
   "source": [
    "# SkLearn SGD classifier predicted weight matrix\n",
    "sklearn_w=clf_.coef_\n",
    "sklearn_w"
   ]
  },
  {
   "cell_type": "code",
   "execution_count": 15,
   "metadata": {},
   "outputs": [
    {
     "data": {
      "text/plain": [
       "numpy.ndarray"
      ]
     },
     "execution_count": 15,
     "metadata": {},
     "output_type": "execute_result"
    }
   ],
   "source": [
    "type(sklearn_w)"
   ]
  }
 ],
 "metadata": {
  "kernelspec": {
   "display_name": "Python 3",
   "language": "python",
   "name": "python3"
  },
  "language_info": {
   "codemirror_mode": {
    "name": "ipython",
    "version": 3
   },
   "file_extension": ".py",
   "mimetype": "text/x-python",
   "name": "python",
   "nbconvert_exporter": "python",
   "pygments_lexer": "ipython3",
   "version": "3.7.6"
  }
 },
 "nbformat": 4,
 "nbformat_minor": 4
}
